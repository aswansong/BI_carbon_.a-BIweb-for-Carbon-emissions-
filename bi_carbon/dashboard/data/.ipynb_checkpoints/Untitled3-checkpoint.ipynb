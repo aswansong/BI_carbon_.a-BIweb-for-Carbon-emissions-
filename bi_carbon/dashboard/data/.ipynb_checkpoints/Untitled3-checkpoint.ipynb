{
 "cells": [
  {
   "cell_type": "code",
   "execution_count": 23,
   "id": "eefd8c5a-aed9-45f2-a4ea-c379a2b3b5f2",
   "metadata": {},
   "outputs": [
    {
     "data": {
      "text/plain": [
       "0    192.912182\n",
       "Name: Scope 1 Total, dtype: float64"
      ]
     },
     "execution_count": 23,
     "metadata": {},
     "output_type": "execute_result"
    }
   ],
   "source": [
    "import pandas as pd \n",
    "df = pd.read_csv(\"provinces_carbon_emission.csv\")\n",
    "df[df[\"city\"] ==\"Shanghai\"][\"Scope 1 Total\"]"
   ]
  },
  {
   "cell_type": "code",
   "execution_count": 39,
   "id": "f4f94612-78eb-4f57-b93d-c72999e43ecc",
   "metadata": {},
   "outputs": [
    {
     "name": "stdout",
     "output_type": "stream",
     "text": [
      "92.912182\n",
      "85.95592\n",
      "94.279375\n",
      "8.155437\n",
      "03.661561\n",
      "15.163355\n",
      "58.466482\n",
      "12.413784\n",
      "08.064341\n",
      "37.116922\n",
      "66.484251\n",
      "85.810531\n",
      "46.716709\n",
      "55.274574\n",
      "04.594214\n",
      "42.308256\n",
      "14.209118\n",
      ": Scope 1 Total, dtype: float64\n",
      "81.407216\n",
      "3.067084\n",
      "54.752471\n",
      "10.641666\n",
      "64.488403\n",
      ": Scope 1 Total, dtype: float64\n",
      "61.129235\n",
      "33.388436\n",
      "56.254673\n",
      ": Scope 1 Total, dtype: float64\n",
      "1.752403\n",
      "78.211338\n",
      "{'Shanghai': '0    192.912182\\nName: Scope 1 Total, dtype: float64', 'Yunnan': '1    185.95592\\nName: Scope 1 Total, dtype: float64', 'InnerMongolia': '2    794.279375\\nName: Scope 1 Total, dtype: float64', 'Beijing': '3    88.155437\\nName: Scope 1 Total, dtype: float64', 'Jilin': '4    203.661561\\nName: Scope 1 Total, dtype: float64', 'Sichuan': '5    315.163355\\nName: Scope 1 Total, dtype: float64', 'Tianjin': '6    158.466482\\nName: Scope 1 Total, dtype: float64', 'Ningxia': '7    212.413784\\nName: Scope 1 Total, dtype: float64', 'Anhui': '8    408.064341\\nName: Scope 1 Total, dtype: float64', 'Shandong': '9    937.116922\\nName: Scope 1 Total, dtype: float64', 'Shanxi': '10    566.484251\\nName: Scope 1 Total, dtype: float64', 'Guangdong': '11    585.810531\\nName: Scope 1 Total, dtype: float64', 'Guangxi': '12    246.716709\\nName: Scope 1 Total, dtype: float64', 'Xinjiang': '13    455.274574\\nName: Scope 1 Total, dtype: float64', 'Jiangsu': '14    804.594214\\nName: Scope 1 Total, dtype: float64', 'Jiangxi': '15    242.308256\\nName: Scope 1 Total, dtype: float64', 'Hebei': '16    914.209118\\nName: Scope 1 Total, dtype: float64', None: 'Series([], Name: Scope 1 Total, dtype: float64)', 'Zhejiang': '18    381.407216\\nName: Scope 1 Total, dtype: float64', 'Hainan': '19    43.067084\\nName: Scope 1 Total, dtype: float64', 'Hubei': '20    354.752471\\nName: Scope 1 Total, dtype: float64', 'Hunan': '21    310.641666\\nName: Scope 1 Total, dtype: float64', 'Gansu': '22    164.488403\\nName: Scope 1 Total, dtype: float64', 'Guizhou': '24    261.129235\\nName: Scope 1 Total, dtype: float64', 'Liaoning': '25    533.388436\\nName: Scope 1 Total, dtype: float64', 'Chongqing': '26    156.254673\\nName: Scope 1 Total, dtype: float64', 'Qinghai': '28    51.752403\\nName: Scope 1 Total, dtype: float64', 'Heilongjiang': '29    278.211338\\nName: Scope 1 Total, dtype: float64'}\n"
     ]
    }
   ],
   "source": [
    "province_coordinates={'Beijing': [116.413387, 39.910924], 'Tianjin': [117.208091, 39.091103], 'Hebei': [114.536594, 38.0432], 'Shanxi': [112.569376, 37.879831], 'InnerMongolia': [111.772606, 40.823156], 'Liaoning': [123.435594, 41.841466], 'Jilin': [125.332582, 43.901713], 'Heilongjiang': [126.669656, 45.74793], 'Shanghai': [121.48054, 31.235929], 'Jiangsu': [118.769553, 32.066777], 'Zhejiang': [120.159537, 30.271549], 'Anhui': [117.330539, 31.734294], 'Fujiang': [119.302446, 26.10634], 'Jiangxi': [115.915421, 28.68169], 'Shandong': [117.027442, 36.674857], 'Heinan': [113.75938, 34.771713], 'Hubei': [114.348443, 30.5516], 'Hunan': [112.989604, 28.118269], 'Guangdong': [113.272426, 23.137949], 'Guangxi': [108.334522, 22.821268], 'Hainan': [110.355538, 20.025802], 'Chongqing': [106.558437, 29.568996], 'Sichuan': [104.073463, 30.577544], 'Guizhou': [106.714473, 26.604029], 'Yunnan': [102.71642, 25.051562], 'Xizang': [91.124344, 29.652894], 'Shanxi': [108.960389, 34.275807], 'Gansu': [103.832475, 36.065466], 'Qinghai': [101.786458, 36.627158], 'Ningxia': [106.265607, 38.476878], 'Xinjiang': [87.633475, 43.799236], 'Tailand': [], 'Xianggang': [114.181517, 22.28293], 'Aomen': [113.551589, 22.19316]}\n",
    "\n",
    "\n",
    "def get_province_name(row):\n",
    "\t\tfor province in provinces:\n",
    "\t\t\tif row.startswith(province):\n",
    "\t\t\t\treturn province\n",
    "\n",
    "provinces = province_coordinates.keys()\n",
    "provinces_names = df[\"city\"].apply(get_province_name)\n",
    "provinces_value_counts = {}\n",
    "for provinces_name in provinces_names:\n",
    "    # print(type(str(df[df[\"city\"]==provinces_name][\"Scope 1 Total\"])))\n",
    "    data = str(df[df[\"city\"]==provinces_name][\"Scope 1 Total\"])\n",
    "    data = data[data.find(' ')+4:data.find('\\n')]\n",
    "    provinces_value_counts[provinces_name] = data\n",
    "print(provinces_value_counts)\n",
    "provinces_carbon = []\n",
    "# min_value  = int(provinces_value_counts.min())\n",
    "# max_value = int(provinces_value_counts.max())\n",
    "# for index,value in provinces_value_counts.items():\n",
    "# \tcoordinates  = province_coordinates[index]\n",
    "# \tprovinces_carbon.append({\"name\":index,'value':coordinates+[value]})\n",
    "# print(provinces_carbon,min_value)    "
   ]
  },
  {
   "cell_type": "code",
   "execution_count": null,
   "id": "71b14f61-ce5a-4111-ba98-e6034482f5e4",
   "metadata": {},
   "outputs": [],
   "source": []
  }
 ],
 "metadata": {
  "kernelspec": {
   "display_name": "Python 3",
   "language": "python",
   "name": "python3"
  },
  "language_info": {
   "codemirror_mode": {
    "name": "ipython",
    "version": 3
   },
   "file_extension": ".py",
   "mimetype": "text/x-python",
   "name": "python",
   "nbconvert_exporter": "python",
   "pygments_lexer": "ipython3",
   "version": "3.6.5"
  }
 },
 "nbformat": 4,
 "nbformat_minor": 5
}
