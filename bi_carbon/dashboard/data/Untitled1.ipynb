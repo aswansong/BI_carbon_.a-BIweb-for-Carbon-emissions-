{
 "cells": [
  {
   "cell_type": "code",
   "execution_count": 6,
   "id": "bc046cba-2de4-4cf9-8b42-79c3c5b86a43",
   "metadata": {},
   "outputs": [
    {
     "name": "stdout",
     "output_type": "stream",
     "text": [
      "   Name                        Age\n",
      "0  Alex 2022-04-29 21:24:15.550130\n"
     ]
    }
   ],
   "source": [
    "from datetime import datetime\n",
    "import pandas as pd\n",
    "now = datetime.now()\n",
    "data = [['Alex',now],['Bob',],['Clarke',]]\n",
    "df = pd.DataFrame(data,columns=['Name','Age']) # 将第一维度数据转为为行，第二维度数据转化为列，即 3 行 2 列，并设置列标签\n",
    "print(df.dropna())\n"
   ]
  },
  {
   "cell_type": "code",
   "execution_count": 4,
   "id": "a254964f-1686-4f0e-b3f8-5a1b095209e6",
   "metadata": {},
   "outputs": [],
   "source": []
  },
  {
   "cell_type": "code",
   "execution_count": null,
   "id": "8ebe576d-8d44-4840-9576-1601fd3c0fb5",
   "metadata": {},
   "outputs": [],
   "source": []
  }
 ],
 "metadata": {
  "kernelspec": {
   "display_name": "Python 3",
   "language": "python",
   "name": "python3"
  },
  "language_info": {
   "codemirror_mode": {
    "name": "ipython",
    "version": 3
   },
   "file_extension": ".py",
   "mimetype": "text/x-python",
   "name": "python",
   "nbconvert_exporter": "python",
   "pygments_lexer": "ipython3",
   "version": "3.6.5"
  }
 },
 "nbformat": 4,
 "nbformat_minor": 5
}
