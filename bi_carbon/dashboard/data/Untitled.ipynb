{
 "cells": [
  {
   "cell_type": "code",
   "execution_count": 4,
   "id": "c2098791-7b91-4f0e-81ed-e24552cca20c",
   "metadata": {},
   "outputs": [
    {
     "data": {
      "application/vnd.jupyter.widget-view+json": {
       "model_id": "ddef05b3c8cc4721b2a56389277abfeb",
       "version_major": 2,
       "version_minor": 0
      },
      "text/plain": [
       "Summarize dataset:   0%|          | 0/5 [00:00<?, ?it/s]"
      ]
     },
     "metadata": {},
     "output_type": "display_data"
    },
    {
     "name": "stderr",
     "output_type": "stream",
     "text": [
      "c:\\users\\asus\\appdata\\local\\programs\\python\\python36\\lib\\site-packages\\pandas\\core\\strings.py:1541: FutureWarning: split() requires a non-empty pattern match.\n",
      "  f = lambda x: regex.split(x, maxsplit=n)\n",
      "c:\\users\\asus\\appdata\\local\\programs\\python\\python36\\lib\\site-packages\\pandas\\core\\strings.py:1541: FutureWarning: split() requires a non-empty pattern match.\n",
      "  f = lambda x: regex.split(x, maxsplit=n)\n",
      "c:\\users\\asus\\appdata\\local\\programs\\python\\python36\\lib\\site-packages\\pandas\\core\\strings.py:1541: FutureWarning: split() requires a non-empty pattern match.\n",
      "  f = lambda x: regex.split(x, maxsplit=n)\n",
      "c:\\users\\asus\\appdata\\local\\programs\\python\\python36\\lib\\site-packages\\pandas\\core\\strings.py:1541: FutureWarning: split() requires a non-empty pattern match.\n",
      "  f = lambda x: regex.split(x, maxsplit=n)\n"
     ]
    },
    {
     "data": {
      "application/vnd.jupyter.widget-view+json": {
       "model_id": "d00dbf35b88042039ca27f23879ac104",
       "version_major": 2,
       "version_minor": 0
      },
      "text/plain": [
       "Generate report structure:   0%|          | 0/1 [00:00<?, ?it/s]"
      ]
     },
     "metadata": {},
     "output_type": "display_data"
    },
    {
     "data": {
      "application/vnd.jupyter.widget-view+json": {
       "model_id": "6cbf5a75f2fe412985c3bad07c8dc591",
       "version_major": 2,
       "version_minor": 0
      },
      "text/plain": [
       "Render HTML:   0%|          | 0/1 [00:00<?, ?it/s]"
      ]
     },
     "metadata": {},
     "output_type": "display_data"
    },
    {
     "data": {
      "application/vnd.jupyter.widget-view+json": {
       "model_id": "1f63da5c4baa436da670c3fc5e62be4d",
       "version_major": 2,
       "version_minor": 0
      },
      "text/plain": [
       "Export report to file:   0%|          | 0/1 [00:00<?, ?it/s]"
      ]
     },
     "metadata": {},
     "output_type": "display_data"
    }
   ],
   "source": [
    "import pandas as pd\n",
    "import pandas_profiling\n",
    "\n",
    "df = pd.read_csv('CM_v2021.11.csv')\n",
    "report=df.profile_report()\n",
    "report.to_file(\"report.html\")"
   ]
  },
  {
   "cell_type": "code",
   "execution_count": 2,
   "id": "8d9cec06-3044-44f8-9432-c5b947f0c76f",
   "metadata": {},
   "outputs": [],
   "source": [
    "import pandas_profiling\n"
   ]
  },
  {
   "cell_type": "code",
   "execution_count": 8,
   "id": "57c682ae-f36d-4559-81c6-d3543fe63367",
   "metadata": {},
   "outputs": [
    {
     "name": "stdout",
     "output_type": "stream",
     "text": [
      "Requirement already satisfied: pip in c:\\users\\asus\\appdata\\local\\programs\\python\\python38\\lib\\site-packages (22.0.4)\n"
     ]
    }
   ],
   "source": [
    "!pip install --upgrade pip\n"
   ]
  },
  {
   "cell_type": "code",
   "execution_count": 9,
   "id": "1a5e04ef-920a-431b-b34f-93c9f525556e",
   "metadata": {},
   "outputs": [
    {
     "name": "stdout",
     "output_type": "stream",
     "text": [
      "Collecting msgpack\n",
      "  Downloading msgpack-1.0.3-cp38-cp38-win_amd64.whl (69 kB)\n",
      "     -------------------------------------- 69.8/69.8 KB 959.9 kB/s eta 0:00:00\n",
      "Installing collected packages: msgpack\n",
      "Successfully installed msgpack-1.0.3\n",
      "Wall time: 1.55 s\n"
     ]
    }
   ],
   "source": [
    "%time !pip install msgpack\n"
   ]
  },
  {
   "cell_type": "code",
   "execution_count": null,
   "id": "0b9c80b6-a0b4-43bd-b734-3219fa6b9e1f",
   "metadata": {},
   "outputs": [],
   "source": []
  }
 ],
 "metadata": {
  "kernelspec": {
   "display_name": "Python 3",
   "language": "python",
   "name": "python3"
  },
  "language_info": {
   "codemirror_mode": {
    "name": "ipython",
    "version": 3
   },
   "file_extension": ".py",
   "mimetype": "text/x-python",
   "name": "python",
   "nbconvert_exporter": "python",
   "pygments_lexer": "ipython3",
   "version": "3.6.5"
  }
 },
 "nbformat": 4,
 "nbformat_minor": 5
}
