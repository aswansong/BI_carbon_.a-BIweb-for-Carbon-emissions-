{
 "cells": [
  {
   "cell_type": "code",
   "execution_count": 51,
   "id": "eefd8c5a-aed9-45f2-a4ea-c379a2b3b5f2",
   "metadata": {},
   "outputs": [
    {
     "data": {
      "text/plain": [
       "0    192.912182\n",
       "Name: Scope 1 Total, dtype: float64"
      ]
     },
     "execution_count": 51,
     "metadata": {},
     "output_type": "execute_result"
    }
   ],
   "source": [
    "import pandas as pd \n",
    "import numpy as np\n",
    "df = pd.read_csv(\"provinces_carbon_emission.csv\")\n",
    "df[df[\"city\"] ==\"Shanghai\"][\"Scope 1 Total\"]"
   ]
  },
  {
   "cell_type": "code",
   "execution_count": 58,
   "id": "f4f94612-78eb-4f57-b93d-c72999e43ecc",
   "metadata": {},
   "outputs": [
    {
     "name": "stdout",
     "output_type": "stream",
     "text": [
      "[{'name': 'Shanghai', 'value': [121.48054, 31.235929, '192.912182']}, {'name': 'Yunnan', 'value': [102.71642, 25.051562, '185.95592']}, {'name': 'InnerMongolia', 'value': [111.772606, 40.823156, '794.279375']}, {'name': 'Beijing', 'value': [116.413387, 39.910924, '88.155437']}, {'name': 'Jilin', 'value': [125.332582, 43.901713, '203.661561']}, {'name': 'Sichuan', 'value': [104.073463, 30.577544, '315.163355']}, {'name': 'Tianjin', 'value': [117.208091, 39.091103, '158.466482']}, {'name': 'Ningxia', 'value': [106.265607, 38.476878, '212.413784']}, {'name': 'Anhui', 'value': [117.330539, 31.734294, '408.064341']}, {'name': 'Shandong', 'value': [117.027442, 36.674857, '937.116922']}, {'name': 'Shanxi', 'value': [108.960389, 34.275807, '566.484251']}, {'name': 'Guangdong', 'value': [113.272426, 23.137949, '585.810531']}, {'name': 'Guangxi', 'value': [108.334522, 22.821268, '246.716709']}, {'name': 'Xinjiang', 'value': [87.633475, 43.799236, '455.274574']}, {'name': 'Jiangsu', 'value': [118.769553, 32.066777, '804.594214']}, {'name': 'Jiangxi', 'value': [115.915421, 28.68169, '242.308256']}, {'name': 'Hebei', 'value': [114.536594, 38.0432, '914.209118']}, {'name': 'Zhejiang', 'value': [120.159537, 30.271549, '381.407216']}, {'name': 'Hainan', 'value': [110.355538, 20.025802, '43.067084']}, {'name': 'Hubei', 'value': [114.348443, 30.5516, '354.752471']}, {'name': 'Hunan', 'value': [112.989604, 28.118269, '310.641666']}, {'name': 'Gansu', 'value': [103.832475, 36.065466, '164.488403']}, {'name': 'Guizhou', 'value': [106.714473, 26.604029, '261.129235']}, {'name': 'Liaoning', 'value': [123.435594, 41.841466, '533.388436']}, {'name': 'Chongqing', 'value': [106.558437, 29.568996, '156.254673']}, {'name': 'Qinghai', 'value': [101.786458, 36.627158, '51.752403']}, {'name': 'Heilongjiang', 'value': [126.669656, 45.74793, '278.211338']}] 156.254673 937.116922\n"
     ]
    }
   ],
   "source": [
    "province_coordinates={'Beijing': [116.413387, 39.910924], 'Tianjin': [117.208091, 39.091103], 'Hebei': [114.536594, 38.0432], 'Shanxi': [112.569376, 37.879831], 'InnerMongolia': [111.772606, 40.823156], 'Liaoning': [123.435594, 41.841466], 'Jilin': [125.332582, 43.901713], 'Heilongjiang': [126.669656, 45.74793], 'Shanghai': [121.48054, 31.235929], 'Jiangsu': [118.769553, 32.066777], 'Zhejiang': [120.159537, 30.271549], 'Anhui': [117.330539, 31.734294], 'Fujiang': [119.302446, 26.10634], 'Jiangxi': [115.915421, 28.68169], 'Shandong': [117.027442, 36.674857], 'Heinan': [113.75938, 34.771713], 'Hubei': [114.348443, 30.5516], 'Hunan': [112.989604, 28.118269], 'Guangdong': [113.272426, 23.137949], 'Guangxi': [108.334522, 22.821268], 'Hainan': [110.355538, 20.025802], 'Chongqing': [106.558437, 29.568996], 'Sichuan': [104.073463, 30.577544], 'Guizhou': [106.714473, 26.604029], 'Yunnan': [102.71642, 25.051562], 'Xizang': [91.124344, 29.652894], 'Shanxi': [108.960389, 34.275807], 'Gansu': [103.832475, 36.065466], 'Qinghai': [101.786458, 36.627158], 'Ningxia': [106.265607, 38.476878], 'Xinjiang': [87.633475, 43.799236], 'Tailand': [], 'Xianggang': [114.181517, 22.28293], 'Aomen': [113.551589, 22.19316]}\n",
    "\n",
    "\n",
    "def get_province_name(row):\n",
    "\t\tfor province in provinces:\n",
    "\t\t\tif row.startswith(province):\n",
    "\t\t\t\treturn province\n",
    "\n",
    "provinces = province_coordinates.keys()\n",
    "provinces_names = df[\"city\"].apply(get_province_name)\n",
    "provinces_value_counts = {}\n",
    "provinces_names=provinces_names.replace(to_replace='None', value=np.nan).dropna()\n",
    "for provinces_name in provinces_names:\n",
    "    data = str(df[df[\"city\"]==provinces_name][\"Scope 1 Total\"])\n",
    "    data = data[data.find(' ')+4:data.find('\\n')]\n",
    "    provinces_value_counts[provinces_name] = data\n",
    "provinces_carbon = []\n",
    "provinces_value_counts = pd.Series(provinces_value_counts)\n",
    "min_value  = float(provinces_value_counts.min())\n",
    "max_value = float(provinces_value_counts.max())\n",
    "for index,value in provinces_value_counts.items():\n",
    "\tcoordinates  = province_coordinates[index]\n",
    "\tprovinces_carbon.append({\"name\":index,'value':coordinates+[value]})\n",
    "print(provinces_carbon,min_value,max_value)    "
   ]
  },
  {
   "cell_type": "code",
   "execution_count": null,
   "id": "71b14f61-ce5a-4111-ba98-e6034482f5e4",
   "metadata": {},
   "outputs": [],
   "source": []
  }
 ],
 "metadata": {
  "kernelspec": {
   "display_name": "Python 3",
   "language": "python",
   "name": "python3"
  },
  "language_info": {
   "codemirror_mode": {
    "name": "ipython",
    "version": 3
   },
   "file_extension": ".py",
   "mimetype": "text/x-python",
   "name": "python",
   "nbconvert_exporter": "python",
   "pygments_lexer": "ipython3",
   "version": "3.6.5"
  }
 },
 "nbformat": 4,
 "nbformat_minor": 5
}
